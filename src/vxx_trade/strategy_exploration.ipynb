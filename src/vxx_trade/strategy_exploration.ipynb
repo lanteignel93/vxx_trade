{
 "cells": [
  {
   "cell_type": "markdown",
   "id": "b31f4d0b",
   "metadata": {},
   "source": [
    "date: 2024-12-07\n",
    "\n",
    "author: Laurent Lanteigne "
   ]
  },
  {
   "cell_type": "code",
   "execution_count": null,
   "id": "690385c3",
   "metadata": {
    "scrolled": true
   },
   "outputs": [],
   "source": [
    "from IPython.display import Image\n",
    "from IPython.core.display import HTML "
   ]
  },
  {
   "cell_type": "code",
   "execution_count": null,
   "id": "b8fc36bd",
   "metadata": {},
   "outputs": [],
   "source": [
    "from vxx_trade.trade_exploratory import strategy_explorer"
   ]
  },
  {
   "cell_type": "code",
   "execution_count": null,
   "id": "4ca349dd",
   "metadata": {},
   "outputs": [],
   "source": [
    " strat = strategy_explorer(display=True)"
   ]
  },
  {
   "cell_type": "markdown",
   "id": "815ae90f",
   "metadata": {},
   "source": [
    "# VXX Trade Exploration\n",
    "\n",
    "\n",
    "### Histogram Returns"
   ]
  },
  {
   "cell_type": "code",
   "execution_count": null,
   "id": "7a0df2f6",
   "metadata": {},
   "outputs": [],
   "source": [
    "strat.histogram_vxx_ret()"
   ]
  },
  {
   "cell_type": "markdown",
   "id": "1d8341bd",
   "metadata": {},
   "source": [
    "### CAGR "
   ]
  },
  {
   "cell_type": "code",
   "execution_count": null,
   "id": "31864d9b",
   "metadata": {},
   "outputs": [],
   "source": [
    "strat.vxx_ret_plot_cagr()"
   ]
  },
  {
   "cell_type": "markdown",
   "id": "e6332140",
   "metadata": {},
   "source": [
    "## Analysis based on VIX Level \n",
    "\n",
    "### VXX Returns versus VIX Level"
   ]
  },
  {
   "cell_type": "code",
   "execution_count": null,
   "id": "2244dada",
   "metadata": {},
   "outputs": [],
   "source": [
    "strat.scatter_plot_vxx_ret(column=\"vix_cp\")"
   ]
  },
  {
   "cell_type": "markdown",
   "id": "f3b80991",
   "metadata": {},
   "source": [
    "### VXX Mean Returns per VIX Decile"
   ]
  },
  {
   "cell_type": "code",
   "execution_count": null,
   "id": "f8a68125",
   "metadata": {},
   "outputs": [],
   "source": [
    "strat.barplot_vxx_ret_decile(column=\"vix_cp\", col_analysis=\"mean returns\")"
   ]
  },
  {
   "cell_type": "markdown",
   "id": "887db870",
   "metadata": {},
   "source": [
    "### VXX Mean Returns per VIX - EWMA(21d CoM)VIX 63days Zscore"
   ]
  },
  {
   "cell_type": "code",
   "execution_count": null,
   "id": "4a11a25f",
   "metadata": {},
   "outputs": [],
   "source": [
    "strat.barplot_vxx_ret_zscore(column=\"vix_cp\", col_analysis=\"mean returns\")"
   ]
  },
  {
   "cell_type": "markdown",
   "id": "742831aa",
   "metadata": {},
   "source": [
    "### VXX Sharpe per VIX Decile"
   ]
  },
  {
   "cell_type": "code",
   "execution_count": null,
   "id": "0511ebb0",
   "metadata": {},
   "outputs": [],
   "source": [
    "strat.barplot_vxx_ret_decile(column=\"vix_cp\", col_analysis=\"sharpe\")"
   ]
  },
  {
   "cell_type": "markdown",
   "id": "afcc033d",
   "metadata": {},
   "source": [
    "### VXX Sharpe per VIX - EWMA(21d CoM)VIX 63days Zscore"
   ]
  },
  {
   "cell_type": "code",
   "execution_count": null,
   "id": "2f1aad6f",
   "metadata": {
    "scrolled": false
   },
   "outputs": [],
   "source": [
    "strat.barplot_vxx_ret_zscore(column=\"vix_cp\", col_analysis=\"sharpe\")"
   ]
  },
  {
   "cell_type": "markdown",
   "id": "84cc8997",
   "metadata": {},
   "source": [
    "### VXX Drawdown per VIX Decile"
   ]
  },
  {
   "cell_type": "code",
   "execution_count": null,
   "id": "8c152f06",
   "metadata": {},
   "outputs": [],
   "source": [
    "strat.barplot_vxx_ret_decile(column=\"vix_cp\", col_analysis=\"drawdown\")"
   ]
  },
  {
   "cell_type": "markdown",
   "id": "04ec8361",
   "metadata": {},
   "source": [
    "### VXX Drawdown per VIX - EWMA(21d CoM)VIX 63days Zscore"
   ]
  },
  {
   "cell_type": "code",
   "execution_count": null,
   "id": "215e5f5d",
   "metadata": {},
   "outputs": [],
   "source": [
    "strat.barplot_vxx_ret_zscore(column=\"vix_cp\", col_analysis=\"drawdown\")"
   ]
  },
  {
   "cell_type": "markdown",
   "id": "36cc473f",
   "metadata": {},
   "source": [
    "### VXX CAGR per VIX Decile"
   ]
  },
  {
   "cell_type": "code",
   "execution_count": null,
   "id": "e6497ee5",
   "metadata": {},
   "outputs": [],
   "source": [
    "strat.barplot_vxx_ret_decile(column=\"vix_cp\", col_analysis=\"cagr\")"
   ]
  },
  {
   "cell_type": "markdown",
   "id": "68b16038",
   "metadata": {},
   "source": [
    "### VXX CAGR per VIX - EWMA(21d CoM)VIX 63days Zscore"
   ]
  },
  {
   "cell_type": "code",
   "execution_count": null,
   "id": "26d3c7e6",
   "metadata": {},
   "outputs": [],
   "source": [
    "strat.barplot_vxx_ret_zscore(column=\"vix_cp\", col_analysis=\"cagr\")"
   ]
  },
  {
   "cell_type": "markdown",
   "id": "ce1aa00a",
   "metadata": {},
   "source": [
    "### VXX Mean Returns per VVIX Decile"
   ]
  },
  {
   "cell_type": "code",
   "execution_count": null,
   "id": "cccc147b",
   "metadata": {},
   "outputs": [],
   "source": [
    "strat.barplot_vxx_ret_decile(column=\"vvix_cp\", col_analysis=\"mean returns\")"
   ]
  },
  {
   "cell_type": "markdown",
   "id": "f4cfbd4e",
   "metadata": {},
   "source": [
    "### VXX Mean Returns per VVIX - EWMA(21d CoM)VVIX 63days Zscore"
   ]
  },
  {
   "cell_type": "code",
   "execution_count": null,
   "id": "59792288",
   "metadata": {},
   "outputs": [],
   "source": [
    "strat.barplot_vxx_ret_zscore(column=\"vvix_cp\", col_analysis=\"mean returns\")"
   ]
  },
  {
   "cell_type": "markdown",
   "id": "b26a5439",
   "metadata": {},
   "source": [
    "### VXX Sharpe per VVIX Decile"
   ]
  },
  {
   "cell_type": "code",
   "execution_count": null,
   "id": "4ee90868",
   "metadata": {},
   "outputs": [],
   "source": [
    "strat.barplot_vxx_ret_decile(column=\"vvix_cp\", col_analysis=\"sharpe\")"
   ]
  },
  {
   "cell_type": "markdown",
   "id": "ba4dd075",
   "metadata": {},
   "source": [
    "### VXX Sharpe per VVIX - EWMA(21d CoM)VVIX 63days Zscore"
   ]
  },
  {
   "cell_type": "code",
   "execution_count": null,
   "id": "b2a17ff2",
   "metadata": {},
   "outputs": [],
   "source": [
    "strat.barplot_vxx_ret_zscore(column=\"vvix_cp\", col_analysis=\"sharpe\")"
   ]
  },
  {
   "cell_type": "markdown",
   "id": "b132ac2c",
   "metadata": {},
   "source": [
    "### VXX Drawdown per VVIX Decile"
   ]
  },
  {
   "cell_type": "code",
   "execution_count": null,
   "id": "3384bbd4",
   "metadata": {},
   "outputs": [],
   "source": [
    "strat.barplot_vxx_ret_decile(column=\"vvix_cp\", col_analysis=\"drawdown\")"
   ]
  },
  {
   "cell_type": "markdown",
   "id": "779efe25",
   "metadata": {},
   "source": [
    "### VXX Drawdown per VVIX - EWMA(21d CoM)VVIX 63days Zscore"
   ]
  },
  {
   "cell_type": "code",
   "execution_count": null,
   "id": "e304f348",
   "metadata": {},
   "outputs": [],
   "source": [
    "strat.barplot_vxx_ret_zscore(column=\"vvix_cp\", col_analysis=\"drawdown\")"
   ]
  },
  {
   "cell_type": "markdown",
   "id": "972d6129",
   "metadata": {},
   "source": [
    "### VXX CAGR per VVIX Decile"
   ]
  },
  {
   "cell_type": "code",
   "execution_count": null,
   "id": "24b6a793",
   "metadata": {},
   "outputs": [],
   "source": [
    "strat.barplot_vxx_ret_decile(column=\"vvix_cp\", col_analysis=\"cagr\")"
   ]
  },
  {
   "cell_type": "markdown",
   "id": "ba3fcd10",
   "metadata": {},
   "source": [
    "### VXX CAGR per VVIX - EWMA(21d CoM)VVIX 63days Zscore"
   ]
  },
  {
   "cell_type": "code",
   "execution_count": null,
   "id": "b0b72555",
   "metadata": {},
   "outputs": [],
   "source": [
    "strat.barplot_vxx_ret_zscore(column=\"vvix_cp\", col_analysis=\"cagr\")"
   ]
  },
  {
   "cell_type": "markdown",
   "id": "ece58dd5",
   "metadata": {},
   "source": [
    "### VXX Mean Returns per Vol Term Structure Decile"
   ]
  },
  {
   "cell_type": "code",
   "execution_count": null,
   "id": "a9b7dcd0",
   "metadata": {},
   "outputs": [],
   "source": [
    "strat.barplot_vxx_ret_decile(column=\"vol_ts\", col_analysis=\"mean returns\")"
   ]
  },
  {
   "cell_type": "markdown",
   "id": "71c30b6b",
   "metadata": {},
   "source": [
    "### VXX Mean Returns per Vol Term Structure - EWMA(21d CoM)Vol Term Structure 63days Zscore"
   ]
  },
  {
   "cell_type": "code",
   "execution_count": null,
   "id": "b30225e7",
   "metadata": {},
   "outputs": [],
   "source": [
    "strat.barplot_vxx_ret_zscore(column=\"vol_ts\", col_analysis=\"mean returns\")"
   ]
  },
  {
   "cell_type": "markdown",
   "id": "d74f9420",
   "metadata": {},
   "source": [
    "### VXX Sharpe per Vol Term Structure Decile"
   ]
  },
  {
   "cell_type": "code",
   "execution_count": null,
   "id": "95741a80",
   "metadata": {},
   "outputs": [],
   "source": [
    "strat.barplot_vxx_ret_decile(column=\"vol_ts\", col_analysis=\"sharpe\")"
   ]
  },
  {
   "cell_type": "markdown",
   "id": "9480586d",
   "metadata": {},
   "source": [
    "### VXX Sharpe per Vol Term Structure - EWMA(21d CoM)Vol Term Structure 63days Zscore"
   ]
  },
  {
   "cell_type": "code",
   "execution_count": null,
   "id": "69045a34",
   "metadata": {},
   "outputs": [],
   "source": [
    "strat.barplot_vxx_ret_zscore(column=\"vol_ts\", col_analysis=\"sharpe\")"
   ]
  },
  {
   "cell_type": "markdown",
   "id": "aa397b43",
   "metadata": {},
   "source": [
    "### VXX Drawdown per Vol Term Structure Decile"
   ]
  },
  {
   "cell_type": "code",
   "execution_count": null,
   "id": "c8ac178e",
   "metadata": {},
   "outputs": [],
   "source": [
    "strat.barplot_vxx_ret_decile(column=\"vol_ts\", col_analysis=\"drawdown\")"
   ]
  },
  {
   "cell_type": "markdown",
   "id": "260feaaf",
   "metadata": {},
   "source": [
    "### VXX Drawdown per Vol Term Structure - EWMA(21d CoM)Vol Term Structure 63days Zscore"
   ]
  },
  {
   "cell_type": "code",
   "execution_count": null,
   "id": "71e19d9b",
   "metadata": {},
   "outputs": [],
   "source": [
    "strat.barplot_vxx_ret_zscore(column=\"vol_ts\", col_analysis=\"drawdown\")"
   ]
  },
  {
   "cell_type": "markdown",
   "id": "b7716071",
   "metadata": {},
   "source": [
    "### VXX CAGR per Vol Term Structure Decile"
   ]
  },
  {
   "cell_type": "code",
   "execution_count": null,
   "id": "a8b6fe97",
   "metadata": {},
   "outputs": [],
   "source": [
    "strat.barplot_vxx_ret_decile(column=\"vol_ts\", col_analysis=\"cagr\")"
   ]
  },
  {
   "cell_type": "markdown",
   "id": "1667a8f9",
   "metadata": {},
   "source": [
    "### VXX CAGR per Vol Term Structure - EWMA(21d CoM)Vol Term Structure 63days Zscore"
   ]
  },
  {
   "cell_type": "code",
   "execution_count": null,
   "id": "454c622e",
   "metadata": {},
   "outputs": [],
   "source": [
    "strat.barplot_vxx_ret_zscore(column=\"vol_ts\", col_analysis=\"cagr\")"
   ]
  }
 ],
 "metadata": {
  "kernelspec": {
   "display_name": "vxx_trade",
   "language": "python",
   "name": "vxx_trade"
  },
  "language_info": {
   "codemirror_mode": {
    "name": "ipython",
    "version": 3
   },
   "file_extension": ".py",
   "mimetype": "text/x-python",
   "name": "python",
   "nbconvert_exporter": "python",
   "pygments_lexer": "ipython3",
   "version": "3.10.12"
  }
 },
 "nbformat": 4,
 "nbformat_minor": 5
}
